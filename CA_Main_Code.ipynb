{
 "cells": [
  {
   "cell_type": "code",
   "execution_count": 1,
   "metadata": {},
   "outputs": [],
   "source": [
    "import mysql.connector\n",
    "import pandas as pd\n",
    "import numpy as np\n",
    "import warnings\n",
    "from scipy.stats import chi2_contingency\n",
    "warnings.filterwarnings(\"ignore\")\n",
    "import seaborn as sns\n",
    "import matplotlib.pyplot as plt"
   ]
  },
  {
   "cell_type": "code",
   "execution_count": 2,
   "metadata": {},
   "outputs": [],
   "source": [
    "#establishing the connection\n",
    "conn = mysql.connector.connect(\n",
    "   user='root', password='root', host='127.0.0.1', database='c_analysis')"
   ]
  },
  {
   "cell_type": "code",
   "execution_count": 3,
   "metadata": {},
   "outputs": [],
   "source": [
    "#Creating a cursor object using the cursor() method\n",
    "cursor = conn.cursor()"
   ]
  },
  {
   "cell_type": "code",
   "execution_count": 4,
   "metadata": {},
   "outputs": [],
   "source": [
    "#Retrieving single row\n",
    "sql = '''SELECT * from c_analysis.housetasks'''"
   ]
  },
  {
   "cell_type": "code",
   "execution_count": 5,
   "metadata": {},
   "outputs": [],
   "source": [
    "#Executing the query\n",
    "cursor.execute(sql)"
   ]
  },
  {
   "cell_type": "code",
   "execution_count": 6,
   "metadata": {},
   "outputs": [
    {
     "name": "stdout",
     "output_type": "stream",
     "text": [
      "[(1, 'Laundry', '156', '14', '2', '4'), (2, 'Main_meal', '124', '20', '5', '4'), (3, 'Dinner', '77', '11', '7', '13'), (4, 'Breakfast', '82', '36', '15', '7'), (5, 'Tidying', '53', '11', '1', '57'), (6, 'Dishes', '32', '24', '4', '53'), (7, 'Shopping', '33', '23', '9', '55'), (8, 'Official', '12', '46', '23', '15'), (9, 'Driving', '10', '51', '75', '3'), (10, 'Finances', '13', '13', '21', '66'), (11, 'Insurance', '8', '1', '53', '77'), (12, 'Repairs', '0', '3', '160', '2'), (13, 'Holidays', '0', '1', '6', '153')]\n"
     ]
    }
   ],
   "source": [
    "result = cursor.fetchall();\n",
    "print(result)"
   ]
  },
  {
   "cell_type": "code",
   "execution_count": 7,
   "metadata": {},
   "outputs": [],
   "source": [
    "df = pd.DataFrame(result, columns=cursor.column_names)"
   ]
  },
  {
   "cell_type": "code",
   "execution_count": 8,
   "metadata": {},
   "outputs": [
    {
     "data": {
      "text/plain": [
       "Index(['idhousetasks', 'housetask', 'Wife', 'Alternating', 'Husband',\n",
       "       'Jointly'],\n",
       "      dtype='object')"
      ]
     },
     "execution_count": 8,
     "metadata": {},
     "output_type": "execute_result"
    }
   ],
   "source": [
    "df.columns"
   ]
  },
  {
   "cell_type": "code",
   "execution_count": 9,
   "metadata": {},
   "outputs": [],
   "source": [
    "dup_df = df.loc[:, df.columns != \"idhousetasks\"]"
   ]
  },
  {
   "cell_type": "code",
   "execution_count": 10,
   "metadata": {},
   "outputs": [
    {
     "data": {
      "text/plain": [
       "Index(['housetask', 'Wife', 'Alternating', 'Husband', 'Jointly'], dtype='object')"
      ]
     },
     "execution_count": 10,
     "metadata": {},
     "output_type": "execute_result"
    }
   ],
   "source": [
    "dup_df.columns"
   ]
  },
  {
   "cell_type": "code",
   "execution_count": 11,
   "metadata": {},
   "outputs": [],
   "source": [
    "dup_df.set_index(\"housetask\", inplace=True)"
   ]
  },
  {
   "cell_type": "code",
   "execution_count": 12,
   "metadata": {},
   "outputs": [
    {
     "name": "stdout",
     "output_type": "stream",
     "text": [
      "<class 'pandas.core.frame.DataFrame'>\n",
      "Index: 13 entries, Laundry to Holidays\n",
      "Data columns (total 4 columns):\n",
      " #   Column       Non-Null Count  Dtype \n",
      "---  ------       --------------  ----- \n",
      " 0   Wife         13 non-null     object\n",
      " 1   Alternating  13 non-null     object\n",
      " 2   Husband      13 non-null     object\n",
      " 3   Jointly      13 non-null     object\n",
      "dtypes: object(4)\n",
      "memory usage: 520.0+ bytes\n"
     ]
    }
   ],
   "source": [
    "dup_df.info()"
   ]
  },
  {
   "cell_type": "code",
   "execution_count": 13,
   "metadata": {},
   "outputs": [
    {
     "name": "stdout",
     "output_type": "stream",
     "text": [
      "           Wife  Alternating  Husband  Jointly\n",
      "housetask                                     \n",
      "Laundry     156           14        2        4\n",
      "Main_meal   124           20        5        4\n",
      "Dinner       77           11        7       13\n",
      "Breakfast    82           36       15        7\n",
      "Tidying      53           11        1       57\n",
      "Dishes       32           24        4       53\n",
      "Shopping     33           23        9       55\n",
      "Official     12           46       23       15\n",
      "Driving      10           51       75        3\n",
      "Finances     13           13       21       66\n",
      "Insurance     8            1       53       77\n",
      "Repairs       0            3      160        2\n",
      "Holidays      0            1        6      153\n"
     ]
    }
   ],
   "source": [
    "# Convert all object columns to integers\n",
    "for col in dup_df.columns:\n",
    "    if dup_df[col].dtype == 'object':\n",
    "        dup_df[col] = pd.to_numeric(dup_df[col], errors='coerce').fillna(0).astype(int)\n",
    "\n",
    "print(dup_df)"
   ]
  },
  {
   "cell_type": "code",
   "execution_count": 14,
   "metadata": {},
   "outputs": [
    {
     "name": "stdout",
     "output_type": "stream",
     "text": [
      "<class 'pandas.core.frame.DataFrame'>\n",
      "Index: 13 entries, Laundry to Holidays\n",
      "Data columns (total 4 columns):\n",
      " #   Column       Non-Null Count  Dtype\n",
      "---  ------       --------------  -----\n",
      " 0   Wife         13 non-null     int32\n",
      " 1   Alternating  13 non-null     int32\n",
      " 2   Husband      13 non-null     int32\n",
      " 3   Jointly      13 non-null     int32\n",
      "dtypes: int32(4)\n",
      "memory usage: 312.0+ bytes\n"
     ]
    }
   ],
   "source": [
    "dup_df.info()"
   ]
  },
  {
   "cell_type": "code",
   "execution_count": 15,
   "metadata": {},
   "outputs": [],
   "source": [
    "column_sums = dup_df.sum()"
   ]
  },
  {
   "cell_type": "code",
   "execution_count": 16,
   "metadata": {},
   "outputs": [
    {
     "data": {
      "text/plain": [
       "Wife           600\n",
       "Alternating    254\n",
       "Husband        381\n",
       "Jointly        509\n",
       "dtype: int64"
      ]
     },
     "execution_count": 16,
     "metadata": {},
     "output_type": "execute_result"
    }
   ],
   "source": [
    "column_sums"
   ]
  },
  {
   "cell_type": "code",
   "execution_count": 17,
   "metadata": {},
   "outputs": [],
   "source": [
    "row_sums = dup_df.sum(axis=1)"
   ]
  },
  {
   "cell_type": "code",
   "execution_count": 18,
   "metadata": {},
   "outputs": [
    {
     "data": {
      "text/plain": [
       "housetask\n",
       "Laundry      176\n",
       "Main_meal    153\n",
       "Dinner       108\n",
       "Breakfast    140\n",
       "Tidying      122\n",
       "Dishes       113\n",
       "Shopping     120\n",
       "Official      96\n",
       "Driving      139\n",
       "Finances     113\n",
       "Insurance    139\n",
       "Repairs      165\n",
       "Holidays     160\n",
       "dtype: int64"
      ]
     },
     "execution_count": 18,
     "metadata": {},
     "output_type": "execute_result"
    }
   ],
   "source": [
    "row_sums"
   ]
  },
  {
   "cell_type": "code",
   "execution_count": 19,
   "metadata": {},
   "outputs": [],
   "source": [
    "# List to store chi-square test results\n",
    "chi2_results = []"
   ]
  },
  {
   "cell_type": "code",
   "execution_count": 20,
   "metadata": {},
   "outputs": [
    {
     "data": {
      "text/html": [
       "<div>\n",
       "<style scoped>\n",
       "    .dataframe tbody tr th:only-of-type {\n",
       "        vertical-align: middle;\n",
       "    }\n",
       "\n",
       "    .dataframe tbody tr th {\n",
       "        vertical-align: top;\n",
       "    }\n",
       "\n",
       "    .dataframe thead th {\n",
       "        text-align: right;\n",
       "    }\n",
       "</style>\n",
       "<table border=\"1\" class=\"dataframe\">\n",
       "  <thead>\n",
       "    <tr style=\"text-align: right;\">\n",
       "      <th></th>\n",
       "      <th>Wife</th>\n",
       "      <th>Alternating</th>\n",
       "      <th>Husband</th>\n",
       "      <th>Jointly</th>\n",
       "    </tr>\n",
       "    <tr>\n",
       "      <th>housetask</th>\n",
       "      <th></th>\n",
       "      <th></th>\n",
       "      <th></th>\n",
       "      <th></th>\n",
       "    </tr>\n",
       "  </thead>\n",
       "  <tbody>\n",
       "    <tr>\n",
       "      <th>Laundry</th>\n",
       "      <td>156</td>\n",
       "      <td>14</td>\n",
       "      <td>2</td>\n",
       "      <td>4</td>\n",
       "    </tr>\n",
       "    <tr>\n",
       "      <th>Main_meal</th>\n",
       "      <td>124</td>\n",
       "      <td>20</td>\n",
       "      <td>5</td>\n",
       "      <td>4</td>\n",
       "    </tr>\n",
       "    <tr>\n",
       "      <th>Dinner</th>\n",
       "      <td>77</td>\n",
       "      <td>11</td>\n",
       "      <td>7</td>\n",
       "      <td>13</td>\n",
       "    </tr>\n",
       "    <tr>\n",
       "      <th>Breakfast</th>\n",
       "      <td>82</td>\n",
       "      <td>36</td>\n",
       "      <td>15</td>\n",
       "      <td>7</td>\n",
       "    </tr>\n",
       "    <tr>\n",
       "      <th>Tidying</th>\n",
       "      <td>53</td>\n",
       "      <td>11</td>\n",
       "      <td>1</td>\n",
       "      <td>57</td>\n",
       "    </tr>\n",
       "    <tr>\n",
       "      <th>Dishes</th>\n",
       "      <td>32</td>\n",
       "      <td>24</td>\n",
       "      <td>4</td>\n",
       "      <td>53</td>\n",
       "    </tr>\n",
       "    <tr>\n",
       "      <th>Shopping</th>\n",
       "      <td>33</td>\n",
       "      <td>23</td>\n",
       "      <td>9</td>\n",
       "      <td>55</td>\n",
       "    </tr>\n",
       "    <tr>\n",
       "      <th>Official</th>\n",
       "      <td>12</td>\n",
       "      <td>46</td>\n",
       "      <td>23</td>\n",
       "      <td>15</td>\n",
       "    </tr>\n",
       "    <tr>\n",
       "      <th>Driving</th>\n",
       "      <td>10</td>\n",
       "      <td>51</td>\n",
       "      <td>75</td>\n",
       "      <td>3</td>\n",
       "    </tr>\n",
       "    <tr>\n",
       "      <th>Finances</th>\n",
       "      <td>13</td>\n",
       "      <td>13</td>\n",
       "      <td>21</td>\n",
       "      <td>66</td>\n",
       "    </tr>\n",
       "    <tr>\n",
       "      <th>Insurance</th>\n",
       "      <td>8</td>\n",
       "      <td>1</td>\n",
       "      <td>53</td>\n",
       "      <td>77</td>\n",
       "    </tr>\n",
       "    <tr>\n",
       "      <th>Repairs</th>\n",
       "      <td>0</td>\n",
       "      <td>3</td>\n",
       "      <td>160</td>\n",
       "      <td>2</td>\n",
       "    </tr>\n",
       "    <tr>\n",
       "      <th>Holidays</th>\n",
       "      <td>0</td>\n",
       "      <td>1</td>\n",
       "      <td>6</td>\n",
       "      <td>153</td>\n",
       "    </tr>\n",
       "  </tbody>\n",
       "</table>\n",
       "</div>"
      ],
      "text/plain": [
       "           Wife  Alternating  Husband  Jointly\n",
       "housetask                                     \n",
       "Laundry     156           14        2        4\n",
       "Main_meal   124           20        5        4\n",
       "Dinner       77           11        7       13\n",
       "Breakfast    82           36       15        7\n",
       "Tidying      53           11        1       57\n",
       "Dishes       32           24        4       53\n",
       "Shopping     33           23        9       55\n",
       "Official     12           46       23       15\n",
       "Driving      10           51       75        3\n",
       "Finances     13           13       21       66\n",
       "Insurance     8            1       53       77\n",
       "Repairs       0            3      160        2\n",
       "Holidays      0            1        6      153"
      ]
     },
     "execution_count": 20,
     "metadata": {},
     "output_type": "execute_result"
    }
   ],
   "source": [
    "dup_df.astype(int)"
   ]
  },
  {
   "cell_type": "code",
   "execution_count": 21,
   "metadata": {},
   "outputs": [
    {
     "name": "stdout",
     "output_type": "stream",
     "text": [
      "<class 'pandas.core.frame.DataFrame'>\n",
      "Index: 13 entries, Laundry to Holidays\n",
      "Data columns (total 4 columns):\n",
      " #   Column       Non-Null Count  Dtype\n",
      "---  ------       --------------  -----\n",
      " 0   Wife         13 non-null     int32\n",
      " 1   Alternating  13 non-null     int32\n",
      " 2   Husband      13 non-null     int32\n",
      " 3   Jointly      13 non-null     int32\n",
      "dtypes: int32(4)\n",
      "memory usage: 868.0+ bytes\n"
     ]
    }
   ],
   "source": [
    "dup_df.info()"
   ]
  },
  {
   "cell_type": "code",
   "execution_count": 23,
   "metadata": {},
   "outputs": [],
   "source": [
    "# Get a list of categorical column names\n",
    "categorical_columns = [col for col in dup_df.columns]\n",
    "\n",
    "def perform_chi2_test(df, col1, col2):\n",
    "    chi2, p, dof, expected = chi2_contingency(df[[col1, col2]])\n",
    "    result = f\"Chi-square test between {col1} and {col2}:\\n\"\n",
    "    result += f\"Chi-square statistic: {chi2}\\n\"\n",
    "    result += f\"P-value: {p}\\n\"\n",
    "    result += f\"Degrees of freedom: {dof}\\n\"\n",
    "    result += \"Expected frequencies table:\\n\"\n",
    "    result += str(expected)\n",
    "    return result"
   ]
  },
  {
   "cell_type": "code",
   "execution_count": 100,
   "metadata": {},
   "outputs": [
    {
     "name": "stdout",
     "output_type": "stream",
     "text": [
      "<class 'pandas.core.frame.DataFrame'>\n",
      "RangeIndex: 13 entries, 0 to 12\n",
      "Data columns (total 6 columns):\n",
      " #   Column        Non-Null Count  Dtype \n",
      "---  ------        --------------  ----- \n",
      " 0   idhousetasks  13 non-null     int64 \n",
      " 1   housetask     13 non-null     object\n",
      " 2   Wife          13 non-null     object\n",
      " 3   Alternating   13 non-null     object\n",
      " 4   Husband       13 non-null     object\n",
      " 5   Jointly       13 non-null     object\n",
      "dtypes: int64(1), object(5)\n",
      "memory usage: 752.0+ bytes\n"
     ]
    }
   ],
   "source": [
    "df.info()"
   ]
  },
  {
   "cell_type": "code",
   "execution_count": 101,
   "metadata": {},
   "outputs": [],
   "source": [
    "stat, p, dof, expected = chi2_contingency(dup_df)"
   ]
  },
  {
   "cell_type": "code",
   "execution_count": 102,
   "metadata": {},
   "outputs": [
    {
     "data": {
      "text/plain": [
       "array([[60.55045872, 25.63302752, 38.44954128, 51.36697248],\n",
       "       [52.63761468, 22.28325688, 33.42488532, 44.65424312],\n",
       "       [37.1559633 , 15.7293578 , 23.5940367 , 31.5206422 ],\n",
       "       [48.16513761, 20.38990826, 30.58486239, 40.86009174],\n",
       "       [41.97247706, 17.76834862, 26.65252294, 35.60665138],\n",
       "       [38.87614679, 16.45756881, 24.68635321, 32.97993119],\n",
       "       [41.28440367, 17.47706422, 26.21559633, 35.02293578],\n",
       "       [33.02752294, 13.98165138, 20.97247706, 28.01834862],\n",
       "       [47.82110092, 20.24426606, 30.36639908, 40.56823394],\n",
       "       [38.87614679, 16.45756881, 24.68635321, 32.97993119],\n",
       "       [47.82110092, 20.24426606, 30.36639908, 40.56823394],\n",
       "       [56.76605505, 24.0309633 , 36.04644495, 48.1565367 ],\n",
       "       [55.04587156, 23.30275229, 34.95412844, 46.69724771]])"
      ]
     },
     "execution_count": 102,
     "metadata": {},
     "output_type": "execute_result"
    }
   ],
   "source": [
    "expected"
   ]
  },
  {
   "cell_type": "code",
   "execution_count": 104,
   "metadata": {},
   "outputs": [
    {
     "data": {
      "text/plain": [
       "1944.4561959955277"
      ]
     },
     "execution_count": 104,
     "metadata": {},
     "output_type": "execute_result"
    }
   ],
   "source": [
    "stat"
   ]
  },
  {
   "cell_type": "code",
   "execution_count": 24,
   "metadata": {},
   "outputs": [
    {
     "name": "stdout",
     "output_type": "stream",
     "text": [
      "Chi-square test between Wife and Alternating:\n",
      "Chi-square statistic: 249.3221502396261\n",
      "P-value: 1.8944579715678307e-46\n",
      "Degrees of freedom: 12\n",
      "Expected frequencies table:\n",
      "[[119.43793911  50.56206089]\n",
      " [101.17096019  42.82903981]\n",
      " [ 61.82669789  26.17330211]\n",
      " [ 82.90398126  35.09601874]\n",
      " [ 44.96487119  19.03512881]\n",
      " [ 39.3442623   16.6557377 ]\n",
      " [ 39.3442623   16.6557377 ]\n",
      " [ 40.74941452  17.25058548]\n",
      " [ 42.85714286  18.14285714]\n",
      " [ 18.26697892   7.73302108]\n",
      " [  6.32318501   2.67681499]\n",
      " [  2.10772834   0.89227166]\n",
      " [  0.70257611   0.29742389]]\n",
      "==================================================\n",
      "Chi-square test between Wife and Husband:\n",
      "Chi-square statistic: 689.7830577792071\n",
      "P-value: 6.777461223726992e-140\n",
      "Degrees of freedom: 12\n",
      "Expected frequencies table:\n",
      "[[96.63608563 61.36391437]\n",
      " [78.89908257 50.10091743]\n",
      " [51.37614679 32.62385321]\n",
      " [59.32721713 37.67278287]\n",
      " [33.02752294 20.97247706]\n",
      " [22.01834862 13.98165138]\n",
      " [25.68807339 16.31192661]\n",
      " [21.40672783 13.59327217]\n",
      " [51.98776758 33.01223242]\n",
      " [20.79510703 13.20489297]\n",
      " [37.3088685  23.6911315 ]\n",
      " [97.85932722 62.14067278]\n",
      " [ 3.66972477  2.33027523]]\n",
      "==================================================\n",
      "Chi-square test between Wife and Jointly:\n",
      "Chi-square statistic: 623.8517525028443\n",
      "P-value: 8.51890851153014e-126\n",
      "Degrees of freedom: 12\n",
      "Expected frequencies table:\n",
      "[[86.5644725  73.4355275 ]\n",
      " [69.251578   58.748422  ]\n",
      " [48.69251578 41.30748422]\n",
      " [48.15148783 40.84851217]\n",
      " [59.51307484 50.48692516]\n",
      " [45.98737601 39.01262399]\n",
      " [47.61045987 40.38954013]\n",
      " [14.60775473 12.39224527]\n",
      " [ 7.03336339  5.96663661]\n",
      " [42.7412083  36.2587917 ]\n",
      " [45.98737601 39.01262399]\n",
      " [ 1.08205591  0.91794409]\n",
      " [82.77727683 70.22272317]]\n",
      "==================================================\n",
      "Chi-square test between Alternating and Husband:\n",
      "Chi-square statistic: 260.27792192911016\n",
      "P-value: 9.79718243215221e-49\n",
      "Degrees of freedom: 12\n",
      "Expected frequencies table:\n",
      "[[ 6.4  9.6]\n",
      " [10.  15. ]\n",
      " [ 7.2 10.8]\n",
      " [20.4 30.6]\n",
      " [ 4.8  7.2]\n",
      " [11.2 16.8]\n",
      " [12.8 19.2]\n",
      " [27.6 41.4]\n",
      " [50.4 75.6]\n",
      " [13.6 20.4]\n",
      " [21.6 32.4]\n",
      " [65.2 97.8]\n",
      " [ 2.8  4.2]]\n",
      "==================================================\n",
      "Chi-square test between Alternating and Jointly:\n",
      "Chi-square statistic: 364.9049676064608\n",
      "P-value: 1.0010603443952207e-70\n",
      "Degrees of freedom: 12\n",
      "Expected frequencies table:\n",
      "[[  5.9921363   12.0078637 ]\n",
      " [  7.98951507  16.01048493]\n",
      " [  7.98951507  16.01048493]\n",
      " [ 14.31454784  28.68545216]\n",
      " [ 22.63695937  45.36304063]\n",
      " [ 25.63302752  51.36697248]\n",
      " [ 25.96592398  52.03407602]\n",
      " [ 20.30668414  40.69331586]\n",
      " [ 17.97640891  36.02359109]\n",
      " [ 26.29882045  52.70117955]\n",
      " [ 25.96592398  52.03407602]\n",
      " [  1.66448231   3.33551769]\n",
      " [ 51.26605505 102.73394495]]\n",
      "==================================================\n",
      "Chi-square test between Husband and Jointly:\n",
      "Chi-square statistic: 512.7957578174776\n",
      "P-value: 4.185290908912496e-102\n",
      "Degrees of freedom: 12\n",
      "Expected frequencies table:\n",
      "[[ 2.56853933  3.43146067]\n",
      " [ 3.85280899  5.14719101]\n",
      " [ 8.56179775 11.43820225]\n",
      " [ 9.41797753 12.58202247]\n",
      " [24.82921348 33.17078652]\n",
      " [24.4011236  32.5988764 ]\n",
      " [27.39775281 36.60224719]\n",
      " [16.26741573 21.73258427]\n",
      " [33.39101124 44.60898876]\n",
      " [37.24382022 49.75617978]\n",
      " [55.65168539 74.34831461]\n",
      " [69.3505618  92.6494382 ]\n",
      " [68.06629213 90.93370787]]\n",
      "==================================================\n"
     ]
    }
   ],
   "source": [
    "# Perform chi-square test of independence for all pairs of categorical columns\n",
    "for i, col1 in enumerate(categorical_columns):\n",
    "    for j, col2 in enumerate(categorical_columns):\n",
    "        if i < j:\n",
    "            result = perform_chi2_test(dup_df, col1, col2)\n",
    "            print(result)\n",
    "            print(\"=\" * 50)"
   ]
  },
  {
   "cell_type": "code",
   "execution_count": 25,
   "metadata": {},
   "outputs": [
    {
     "name": "stdout",
     "output_type": "stream",
     "text": [
      "Expected Frequencies Table:\n",
      "                Wife  Alternating    Husband    Jointly\n",
      "housetask                                              \n",
      "Laundry    60.550459    25.633028  38.449541  51.366972\n",
      "Main_meal  52.637615    22.283257  33.424885  44.654243\n",
      "Dinner     37.155963    15.729358  23.594037  31.520642\n",
      "Breakfast  48.165138    20.389908  30.584862  40.860092\n",
      "Tidying    41.972477    17.768349  26.652523  35.606651\n",
      "Dishes     38.876147    16.457569  24.686353  32.979931\n",
      "Shopping   41.284404    17.477064  26.215596  35.022936\n",
      "Official   33.027523    13.981651  20.972477  28.018349\n",
      "Driving    47.821101    20.244266  30.366399  40.568234\n",
      "Finances   38.876147    16.457569  24.686353  32.979931\n",
      "Insurance  47.821101    20.244266  30.366399  40.568234\n",
      "Repairs    56.766055    24.030963  36.046445  48.156537\n",
      "Holidays   55.045872    23.302752  34.954128  46.697248\n"
     ]
    }
   ],
   "source": [
    "# Calculate expected frequencies table using chi2_contingency\n",
    "chi2, p, dof, expected = chi2_contingency(dup_df)\n",
    "\n",
    "# Create a DataFrame for the expected data\n",
    "expected_df = pd.DataFrame(expected, columns=dup_df.columns, index=dup_df.index)\n",
    "\n",
    "print(\"Expected Frequencies Table:\")\n",
    "print(expected_df)"
   ]
  },
  {
   "cell_type": "code",
   "execution_count": 27,
   "metadata": {},
   "outputs": [
    {
     "name": "stdout",
     "output_type": "stream",
     "text": [
      "Residuals per Column:\n",
      "                Wife  Alternating    Husband    Jointly\n",
      "housetask                                              \n",
      "Laundry    12.266344    -2.297697  -5.878229  -6.608968\n",
      "Main_meal   9.836062    -0.483688  -4.916587  -6.083794\n",
      "Dinner      6.536557    -1.192468  -3.416260  -3.298819\n",
      "Breakfast   4.875263     3.456988  -2.818057  -5.297104\n",
      "Tidying     1.702142    -1.605681  -4.968908   3.585198\n",
      "Dishes     -1.102817     1.859210  -4.163470   3.486107\n",
      "Shopping   -1.289342     1.321100  -3.362344   3.375634\n",
      "Official   -3.658896     8.562877   0.442732  -2.459431\n",
      "Driving    -5.469207     6.835575   8.099632  -5.898312\n",
      "Finances   -4.150095    -0.852291  -0.741939   5.749805\n",
      "Insurance  -5.758422    -4.277109   4.107305   5.719883\n",
      "Repairs    -7.534325    -4.290161  20.645612  -6.651286\n",
      "Holidays   -7.419291    -4.620137  -4.897351  15.556033\n"
     ]
    }
   ],
   "source": [
    "# Calculate residuals (observed - expected)\n",
    "residuals_df = (dup_df - expected_df)/np.sqrt(expected_df)\n",
    "\n",
    "print(\"Residuals per Column:\")\n",
    "print(residuals_df)"
   ]
  },
  {
   "cell_type": "code",
   "execution_count": 28,
   "metadata": {},
   "outputs": [],
   "source": [
    "correlation_matrix = residuals_df.corr()"
   ]
  },
  {
   "cell_type": "code",
   "execution_count": 29,
   "metadata": {},
   "outputs": [
    {
     "data": {
      "image/png": "[encoded data removed]",
      "text/plain": [
       "<Figure size 576x432 with 2 Axes>"
      ]
     },
     "metadata": {
      "needs_background": "light"
     },
     "output_type": "display_data"
    }
   ],
   "source": [
    "# Create a correlation plot using seaborn\n",
    "plt.figure(figsize=(8, 6))\n",
    "sns.heatmap(correlation_matrix, annot=True, cmap=\"coolwarm\", linewidths=0.5)\n",
    "plt.title(\"Correlation Plot of Residuals\")\n",
    "plt.show()"
   ]
  },
  {
   "cell_type": "code",
   "execution_count": 31,
   "metadata": {},
   "outputs": [
    {
     "name": "stdout",
     "output_type": "stream",
     "text": [
      "U matrix:\n",
      "[[-0.42762952 -0.23587902 -0.28228398  0.00711367]\n",
      " [-0.35197789 -0.21761257 -0.13633376  0.04813014]\n",
      " [-0.2339102  -0.11493572 -0.14480767  0.23007981]\n",
      " [-0.19557424 -0.19231779  0.17519699 -0.28850134]\n",
      " [-0.14136307  0.17221046 -0.06990952 -0.18825524]\n",
      " [-0.06528142  0.1686451   0.19063825 -0.37170876]\n",
      " [-0.04189568  0.15859251  0.14910925 -0.18405232]\n",
      " [ 0.07216535 -0.08919754  0.60778606 -0.21014741]\n",
      " [ 0.28421536 -0.2765295   0.43123528  0.54545117]\n",
      " [ 0.09354184  0.23576569  0.02484968 -0.21692283]\n",
      " [ 0.24793268  0.20050833 -0.22918636  0.31544717]\n",
      " [ 0.63820133 -0.39850534 -0.40738669 -0.39221863]\n",
      " [ 0.10379321  0.65156733 -0.11011902  0.10910385]]\n",
      "\n",
      "Sigma matrix (diagonal values):\n",
      "[3.07700977e+01 2.78582989e+01 1.48853105e+01 2.31326686e-15]\n",
      "\n",
      "Vt matrix (transposed):\n",
      "[[-0.66679846 -0.03220853  0.73643655  0.10956112]\n",
      " [-0.32112671 -0.1668171  -0.42174177  0.83137451]\n",
      " [-0.32896923  0.90856616 -0.24765256 -0.0703917 ]\n",
      " [-0.58654642 -0.38163098 -0.46740058 -0.54023865]]\n"
     ]
    }
   ],
   "source": [
    "# Perform SVD\n",
    "U, Sigma, Vt = np.linalg.svd(residuals_df, full_matrices=False)\n",
    "\n",
    "# Print U, Sigma, and Vt\n",
    "print(\"U matrix:\")\n",
    "print(U)\n",
    "print(\"\\nSigma matrix (diagonal values):\")\n",
    "print(Sigma)\n",
    "print(\"\\nVt matrix (transposed):\")\n",
    "print(Vt)"
   ]
  },
  {
   "cell_type": "code",
   "execution_count": 32,
   "metadata": {},
   "outputs": [
    {
     "data": {
      "image/png": "[encoded data removed]",
      "text/plain": [
       "<Figure size 576x432 with 1 Axes>"
      ]
     },
     "metadata": {
      "needs_background": "light"
     },
     "output_type": "display_data"
    },
    {
     "name": "stdout",
     "output_type": "stream",
     "text": [
      "Explained Variance of Singular Values (%):\n",
      "SV1: 48.69%\n",
      "SV2: 39.91%\n",
      "SV3: 11.40%\n",
      "SV4: 0.00%\n"
     ]
    }
   ],
   "source": [
    "# Calculate explained variance\n",
    "total_variance = np.sum(Sigma ** 2)\n",
    "explained_variance = (Sigma ** 2) / total_variance * 100\n",
    "\n",
    "# Scree plot\n",
    "plt.figure(figsize=(8, 6))\n",
    "plt.bar(range(1, len(explained_variance) + 1), explained_variance, tick_label=[f'SV{i}' for i in range(1, len(explained_variance) + 1)])\n",
    "plt.xlabel('Singular Value')\n",
    "plt.ylabel('Explained Variance (%)')\n",
    "plt.title('Scree Plot of Explained Variance')\n",
    "plt.show()\n",
    "\n",
    "# Print explained variance values\n",
    "print(\"Explained Variance of Singular Values (%):\")\n",
    "for i, variance in enumerate(explained_variance):\n",
    "    print(f'SV{i + 1}: {variance:.2f}%')"
   ]
  },
  {
   "cell_type": "markdown",
   "metadata": {},
   "source": [
    "## Show Row Plot ##"
   ]
  },
  {
   "cell_type": "code",
   "execution_count": 72,
   "metadata": {},
   "outputs": [
    {
     "data": {
      "image/png": "[encoded data removed]",
      "text/plain": [
       "<Figure size 1080x576 with 1 Axes>"
      ]
     },
     "metadata": {
      "needs_background": "light"
     },
     "output_type": "display_data"
    }
   ],
   "source": [
    "plt.figure(figsize=(15, 8))\n",
    "\n",
    "# Create scatterplot\n",
    "colors = sns.color_palette(\"Set1\", len(U))\n",
    "scatter = sns.scatterplot(x=U[:, 0], y=U[:, 1], palette=\"Set1\",hue=colors)\n",
    "\n",
    "# Set axis limits\n",
    "x_padding = 0.2  # Adjust this value as needed\n",
    "y_padding = 0.2  # Adjust this value as needed\n",
    "plt.xlim(U[:, 0].min() - x_padding, U[:, 0].max() + x_padding)\n",
    "plt.ylim(U[:, 1].min() - y_padding, U[:, 1].max() + y_padding)\n",
    "\n",
    "# Calculate middle point\n",
    "x_middle = 0\n",
    "y_middle = 0\n",
    "\n",
    "# Set ticks and labels\n",
    "plt.xticks([x_middle])\n",
    "plt.yticks([y_middle])\n",
    "\n",
    "# Add grid\n",
    "plt.grid(True, linestyle='--', alpha=0.4)\n",
    "\n",
    "# Set labels and title\n",
    "plt.xlabel(f'Component 1 ({explained_variance[0]:.2f}%)', labelpad=15)\n",
    "plt.ylabel(f'Component 2 ({explained_variance[1]:.2f}%)', labelpad=15)\n",
    "plt.title('SVD Visualization of Residuals (First Two Components)', pad=20)\n",
    "\n",
    "for i, (x, y) in enumerate(zip(U[:, 0], U[:, 1])):\n",
    "    plt.annotate(residuals_df.index[i], (x,y), textcoords=\"offset points\", xytext=(0,10), ha='center', fontsize=9, color=colors[i])\n",
    "\n",
    "\n",
    "# Draw axes passing through the center\n",
    "plt.axhline(y=0, color='black', linewidth=0.8)\n",
    "plt.axvline(x=0, color='black', linewidth=0.8)\n",
    "\n",
    "# Remove the legend\n",
    "plt.legend().set_visible(False)\n",
    "\n",
    "# Show the plot\n",
    "plt.show()"
   ]
  },
  {
   "cell_type": "code",
   "execution_count": 73,
   "metadata": {},
   "outputs": [
    {
     "data": {
      "text/plain": [
       "Index(['Wife', 'Alternating', 'Husband', 'Jointly'], dtype='object')"
      ]
     },
     "execution_count": 73,
     "metadata": {},
     "output_type": "execute_result"
    }
   ],
   "source": [
    "residuals_df.columns"
   ]
  },
  {
   "cell_type": "code",
   "execution_count": 84,
   "metadata": {},
   "outputs": [
    {
     "data": {
      "image/png": "[encoded data removed]",
      "text/plain": [
       "<Figure size 1080x576 with 1 Axes>"
      ]
     },
     "metadata": {
      "needs_background": "light"
     },
     "output_type": "display_data"
    }
   ],
   "source": [
    "plt.figure(figsize=(15, 8))\n",
    "plt.scatter(Vt[0, :], Vt[1, :], c='blue', marker='o')\n",
    "\n",
    "# Set axis limits\n",
    "x_padding = 0.2  # Adjust this value as needed\n",
    "y_padding = 0.2  # Adjust this value as needed\n",
    "plt.xlim(Vt[0, :].min() - x_padding, Vt[0, :].max() + x_padding)\n",
    "plt.ylim(Vt[1, :].min() - y_padding, Vt[1, :].max() + y_padding)\n",
    "\n",
    "# Calculate middle point\n",
    "x_middle = 0\n",
    "y_middle = 0\n",
    "\n",
    "# Set ticks and labels\n",
    "plt.xticks([x_middle])\n",
    "plt.yticks([y_middle])\n",
    "\n",
    "# Add grid\n",
    "plt.grid(True, linestyle='--', alpha=0.4)\n",
    "\n",
    "# Set labels and title\n",
    "plt.xlabel('Principal Component 1')\n",
    "plt.ylabel('Principal Component 2')\n",
    "plt.title('SVD Visualization of Residuals (First Two Principal Components from Vt)', pad=20)\n",
    "\n",
    "# Annotate data based on columns of residuals_df\n",
    "for i, (x, y) in enumerate(zip(Vt[0, :], Vt[1, :])):\n",
    "    plt.annotate(residuals_df.columns[i], (x, y), textcoords=\"offset points\", xytext=(0, 10), ha='center', fontsize=9, color='b')\n",
    "\n",
    "\n",
    "\n",
    "# Show the plot\n",
    "plt.show()"
   ]
  },
  {
   "cell_type": "code",
   "execution_count": 106,
   "metadata": {},
   "outputs": [
    {
     "data": {
      "image/png": "[encoded data removed]",
      "text/plain": [
       "<Figure size 1080x576 with 1 Axes>"
      ]
     },
     "metadata": {
      "needs_background": "light"
     },
     "output_type": "display_data"
    }
   ],
   "source": [
    "# Perform SVD\n",
    "U, Sigma, Vt = np.linalg.svd(residuals_df, full_matrices=False)\n",
    "\n",
    "# Calculate explained variance\n",
    "explained_variance = (Sigma ** 2) / np.sum(Sigma ** 2) * 100\n",
    "\n",
    "# Create a biplot with explained variance, feature names, and brand names\n",
    "plt.figure(figsize=(15, 8))\n",
    "\n",
    "# Plot data points for U\n",
    "for i, (x, y) in enumerate(zip(U[:, 0], U[:, 1])):\n",
    "    plt.scatter(x, y, color='black', marker='^')\n",
    "    plt.text(x, y, f'{residuals_df.index[i]}', color='black', fontsize=9, ha='right', va='top')\n",
    "\n",
    "# Plot vectors for Vt (features)\n",
    "for i, (x, y) in enumerate(zip(Vt[0, :], Vt[1, :])):\n",
    "    plt.scatter(x, y, color='r', marker='o')\n",
    "    plt.text(x, y, f'{residuals_df.columns[i]}', color='r', fontsize=9, ha='right', va='bottom')\n",
    "\n",
    "\n",
    "# Set labels and title\n",
    "plt.xlabel(f'Component 1 ({explained_variance[0]:.2f}%)', labelpad=15)\n",
    "plt.ylabel(f'Component 2 ({explained_variance[1]:.2f}%)', labelpad=15)\n",
    "plt.title('Biplot of SVD: U and Feature Vectors with Explained Variance')\n",
    "\n",
    "# Add grid\n",
    "plt.grid(True, linestyle='--', alpha=0.4, linewidth=0.9)\n",
    "\n",
    "# Draw axes passing through the center\n",
    "plt.axhline(y=0, color='black', linewidth=0.8)\n",
    "plt.axvline(x=0, color='black', linewidth=0.8)\n",
    "\n",
    "# Show the plot\n",
    "plt.show()"
   ]
  },
  {
   "cell_type": "code",
   "execution_count": null,
   "metadata": {},
   "outputs": [],
   "source": []
  }
 ],
 "metadata": {
  "kernelspec": {
   "display_name": "Python 3",
   "language": "python",
   "name": "python3"
  },
  "language_info": {
   "codemirror_mode": {
    "name": "ipython",
    "version": 3
   },
   "file_extension": ".py",
   "mimetype": "text/x-python",
   "name": "python",
   "nbconvert_exporter": "python",
   "pygments_lexer": "ipython3",
   "version": "3.7.3"
  }
 },
 "nbformat": 4,
 "nbformat_minor": 2
}
